{
  "nbformat": 4,
  "nbformat_minor": 0,
  "metadata": {
    "colab": {
      "provenance": []
    },
    "kernelspec": {
      "name": "python3",
      "display_name": "Python 3"
    },
    "language_info": {
      "name": "python"
    }
  },
  "cells": [
    {
      "cell_type": "markdown",
      "source": [
        "FUNCTIONS ASSIGNMENT"
      ],
      "metadata": {
        "id": "q-Dju0_woOsy"
      }
    },
    {
      "cell_type": "markdown",
      "source": [
        "Ques-1 What is the difference between a function and a method in Python?"
      ],
      "metadata": {
        "id": "RoMNLBfboVxu"
      }
    },
    {
      "cell_type": "markdown",
      "source": [
        "Function - A function is a block of reusable code that performs a specific task. It is defined using the 'def' keyword followed by a function name and parentheses, which may include parameters.\n",
        "\n",
        "Method - A method is a function that is associated with an object. Methods are defined within classes and are intended to operate on instances of the class (objects). Methods automatically take the instance 'self' as the first parameter.\n",
        "\n",
        "Differences:\n",
        "\n",
        "Location: Functions are defined outside of classes, while methods are defined inside classes.\n",
        "\n",
        "Binding: Methods are bound to objects; they implicitly pass the instance (self) to the method, whereas functions are not bound to any object.\n",
        "\n",
        "Usage Context: Functions are used for general purposes, whereas methods are specifically used to manipulate or retrieve information from objects."
      ],
      "metadata": {
        "id": "3RMpMXjMogy0"
      }
    },
    {
      "cell_type": "code",
      "source": [
        "#function example\n",
        "def greet(name):\n",
        "    return f\"Hello, {name}!\"\n",
        "\n",
        "print(greet(\"Alice\"))\n"
      ],
      "metadata": {
        "colab": {
          "base_uri": "https://localhost:8080/"
        },
        "id": "2lFfu4C7oUxL",
        "outputId": "c71d8e73-a1bf-40fd-9b3a-c0c9bf332c34"
      },
      "execution_count": null,
      "outputs": [
        {
          "output_type": "stream",
          "name": "stdout",
          "text": [
            "Hello, Alice!\n"
          ]
        }
      ]
    },
    {
      "cell_type": "code",
      "source": [
        "#method example\n",
        "class Greeter:\n",
        "    def greet(self, name):\n",
        "        return f\"Hello, {name}!\"\n",
        "\n",
        "greeter = Greeter()\n",
        "print(greeter.greet(\"Alice\"))\n"
      ],
      "metadata": {
        "colab": {
          "base_uri": "https://localhost:8080/"
        },
        "id": "OHsOtIBCpFCI",
        "outputId": "96dbef6a-9acc-4456-a9bf-f4e09ae5a387"
      },
      "execution_count": null,
      "outputs": [
        {
          "output_type": "stream",
          "name": "stdout",
          "text": [
            "Hello, Alice!\n"
          ]
        }
      ]
    },
    {
      "cell_type": "markdown",
      "source": [
        "Ques-2 Explain the concept of function arguments and parameters in Python."
      ],
      "metadata": {
        "id": "FPVt9VrhpfyI"
      }
    },
    {
      "cell_type": "markdown",
      "source": [
        "Parameter: Parameters are the variables that are listed inside the parentheses in the function definition. They act as placeholders for the values that will be passed into the function when it is called.\n",
        "\n",
        "Role: They define what information is required or accepted by the function."
      ],
      "metadata": {
        "id": "Elb_wup2sgpj"
      }
    },
    {
      "cell_type": "code",
      "source": [
        "#example\n",
        "def add(a, b):  # a and b are parameters\n",
        "    return (a + b)\n"
      ],
      "metadata": {
        "id": "klYDLu7opR59"
      },
      "execution_count": null,
      "outputs": []
    },
    {
      "cell_type": "markdown",
      "source": [
        "Arguement: Arguments are the actual values that are passed to the function when it is called. They correspond to the parameters in the function definition.\n",
        "\n",
        "Role: They provide the input data for the function to work with."
      ],
      "metadata": {
        "id": "lV6GS3kovkH3"
      }
    },
    {
      "cell_type": "code",
      "source": [
        "#example\n",
        "result = add(3, 5)  # 3 and 5 are arguments\n"
      ],
      "metadata": {
        "id": "KXDsP1YAvV2I"
      },
      "execution_count": null,
      "outputs": []
    },
    {
      "cell_type": "markdown",
      "source": [
        "Types of Arguements:"
      ],
      "metadata": {
        "id": "QA6BueTiv2ep"
      }
    },
    {
      "cell_type": "markdown",
      "source": [
        "1. Positional Arguments:\n",
        "Passed to the function in the order of the parameters."
      ],
      "metadata": {
        "id": "GKeF9a9PwFCz"
      }
    },
    {
      "cell_type": "code",
      "source": [
        "#example\n",
        "def greet(first_name, last_name):\n",
        "    print(f\"Hello, {first_name} {last_name}!\")\n",
        "\n",
        "greet(\"John\", \"Doe\")  # \"John\" is first_name, \"Doe\" is last_name\n"
      ],
      "metadata": {
        "colab": {
          "base_uri": "https://localhost:8080/"
        },
        "id": "8kGvpFSiv1yt",
        "outputId": "14778769-815e-433f-c0cc-9e656ec8b47e"
      },
      "execution_count": null,
      "outputs": [
        {
          "output_type": "stream",
          "name": "stdout",
          "text": [
            "Hello, John Doe!\n"
          ]
        }
      ]
    },
    {
      "cell_type": "markdown",
      "source": [
        "2. Keyword Arguments:\n",
        "Passed with the parameter name explicitly specified, allowing arguments to be passed in any order."
      ],
      "metadata": {
        "id": "xFi35S5XwOEC"
      }
    },
    {
      "cell_type": "code",
      "source": [
        "#example\n",
        "greet(last_name=\"Doe\", first_name=\"John\")  # Order doesn't matter\n"
      ],
      "metadata": {
        "colab": {
          "base_uri": "https://localhost:8080/"
        },
        "id": "w_On4uqQwKMF",
        "outputId": "c53ce6db-e888-4724-bc5a-24f70178ab09"
      },
      "execution_count": null,
      "outputs": [
        {
          "output_type": "stream",
          "name": "stdout",
          "text": [
            "Hello, John Doe!\n"
          ]
        }
      ]
    },
    {
      "cell_type": "markdown",
      "source": [
        "3. Default Arguments:\n",
        "Parameters can have default values that are used if no argument is provided for them in the function call."
      ],
      "metadata": {
        "id": "gQvrafVpwYyH"
      }
    },
    {
      "cell_type": "code",
      "source": [
        "#example\n",
        "def greet(name=\"Guest\"):\n",
        "    print(f\"Hello, {name}!\")\n",
        "\n",
        "greet()\n",
        "greet(\"Alice\")\n"
      ],
      "metadata": {
        "colab": {
          "base_uri": "https://localhost:8080/"
        },
        "id": "GJJn_5llwXTv",
        "outputId": "82696444-8fe9-46b8-95a9-5c145b978c66"
      },
      "execution_count": null,
      "outputs": [
        {
          "output_type": "stream",
          "name": "stdout",
          "text": [
            "Hello, Guest!\n",
            "Hello, Alice!\n"
          ]
        }
      ]
    },
    {
      "cell_type": "markdown",
      "source": [
        "4. Variable-Length Arguments:\n",
        "Allows functions to accept an arbitrary number of arguments.\n",
        "\n",
        "*args (Non-Keyword Variable Arguments): Used to pass a variable number of positional arguments.\n",
        "\n",
        "**kwargs (Keyword Variable Arguments): Used to pass a variable number of keyword arguments.\n"
      ],
      "metadata": {
        "id": "dCwTDGbXwirm"
      }
    },
    {
      "cell_type": "code",
      "source": [
        "#example(*args)\n",
        "def add(*numbers):\n",
        "    return sum(numbers)\n",
        "\n",
        "print(add(1, 2, 3))\n"
      ],
      "metadata": {
        "colab": {
          "base_uri": "https://localhost:8080/"
        },
        "id": "ic2zxMVvwhiN",
        "outputId": "6dfc0163-523e-44e8-8bfb-0318bcc7ec83"
      },
      "execution_count": null,
      "outputs": [
        {
          "output_type": "stream",
          "name": "stdout",
          "text": [
            "6\n"
          ]
        }
      ]
    },
    {
      "cell_type": "code",
      "source": [
        "#example(**kwargs)\n",
        "def print_info(**info):\n",
        "    for key, value in info.items():\n",
        "        print(f\"{key}: {value}\")\n",
        "\n",
        "print_info(name=\"Alice\", age=30)\n",
        "\n"
      ],
      "metadata": {
        "colab": {
          "base_uri": "https://localhost:8080/"
        },
        "id": "jVTgSN1Qw36C",
        "outputId": "6d49b8e2-acf3-4564-a771-93f929008c67"
      },
      "execution_count": null,
      "outputs": [
        {
          "output_type": "stream",
          "name": "stdout",
          "text": [
            "name: Alice\n",
            "age: 30\n"
          ]
        }
      ]
    },
    {
      "cell_type": "markdown",
      "source": [
        "Ques-3 What are the different ways to define and call a function in Python?"
      ],
      "metadata": {
        "id": "ULtXTep_1S1w"
      }
    },
    {
      "cell_type": "markdown",
      "source": [
        "1. Defining Functions Using def:"
      ],
      "metadata": {
        "id": "szSqXWU31Yps"
      }
    },
    {
      "cell_type": "code",
      "source": [
        "#definition\n",
        "def function_name(parameters):\n",
        "    # Function body\n",
        "    return result\n"
      ],
      "metadata": {
        "id": "9d5PguOWxBS9"
      },
      "execution_count": null,
      "outputs": []
    },
    {
      "cell_type": "code",
      "source": [
        "#example\n",
        "def greet(name):\n",
        "    return f\"Hello, {name}!\"\n"
      ],
      "metadata": {
        "id": "iQhQ3Abz1fvS"
      },
      "execution_count": null,
      "outputs": []
    },
    {
      "cell_type": "code",
      "source": [
        "#calling\n",
        "print(greet(\"Alice\"))\n"
      ],
      "metadata": {
        "colab": {
          "base_uri": "https://localhost:8080/"
        },
        "id": "NKHgmg9L1jj-",
        "outputId": "37e08aab-d080-40ff-b65f-52488fcfcb10"
      },
      "execution_count": null,
      "outputs": [
        {
          "output_type": "stream",
          "name": "stdout",
          "text": [
            "Hello, Alice!\n"
          ]
        }
      ]
    },
    {
      "cell_type": "markdown",
      "source": [
        "2. Defining Anonymous Functions Using lambda:\n",
        " Lambda functions are small, anonymous functions defined using the lambda keyword. They can have any number of arguments but only one expression."
      ],
      "metadata": {
        "id": "Uq8SfiBF1pQT"
      }
    },
    {
      "cell_type": "code",
      "source": [
        "#definition\n",
        "lambda parameters: expression\n"
      ],
      "metadata": {
        "colab": {
          "base_uri": "https://localhost:8080/"
        },
        "id": "If1uoQ_71n3u",
        "outputId": "e8a3679a-42db-4f49-a2e2-c0544ae9e906"
      },
      "execution_count": null,
      "outputs": [
        {
          "output_type": "execute_result",
          "data": {
            "text/plain": [
              "<function __main__.<lambda>(parameters)>"
            ]
          },
          "metadata": {},
          "execution_count": 19
        }
      ]
    },
    {
      "cell_type": "code",
      "source": [
        "#example\n",
        "add = lambda x, y: x + y\n"
      ],
      "metadata": {
        "id": "AWwmq_dG111_"
      },
      "execution_count": null,
      "outputs": []
    },
    {
      "cell_type": "code",
      "source": [
        "#calling\n",
        "print(add(3, 5))  # Output: 8\n"
      ],
      "metadata": {
        "colab": {
          "base_uri": "https://localhost:8080/"
        },
        "id": "YfJkXxAW18Hw",
        "outputId": "5f04637e-e09c-4249-e7cf-7c6ac538b846"
      },
      "execution_count": null,
      "outputs": [
        {
          "output_type": "stream",
          "name": "stdout",
          "text": [
            "8\n"
          ]
        }
      ]
    },
    {
      "cell_type": "markdown",
      "source": [
        "3. Defining Functions Inside Other Functions (Nested Functions):\n",
        "Functions can be defined inside other functions, creating nested or inner functions."
      ],
      "metadata": {
        "id": "WGss9gja2ClV"
      }
    },
    {
      "cell_type": "code",
      "source": [
        "#definition\n",
        "def outer_function():\n",
        "    def inner_function():\n",
        "        return \"Inner\"\n",
        "    return inner_function()\n"
      ],
      "metadata": {
        "id": "-0HDUsCT2ANi"
      },
      "execution_count": null,
      "outputs": []
    },
    {
      "cell_type": "code",
      "source": [
        "#calling\n",
        "print(outer_function())\n"
      ],
      "metadata": {
        "colab": {
          "base_uri": "https://localhost:8080/"
        },
        "id": "allRu5Up2qoZ",
        "outputId": "8046c1cf-5b2d-45eb-baba-fe8e4d0aa3b3"
      },
      "execution_count": null,
      "outputs": [
        {
          "output_type": "stream",
          "name": "stdout",
          "text": [
            "Inner\n"
          ]
        }
      ]
    },
    {
      "cell_type": "markdown",
      "source": [
        "4. Using Functions as Arguments (Higher-Order Functions):\n",
        "Functions can accept other functions as arguments, which is common in functional programming."
      ],
      "metadata": {
        "id": "U5PMikRV2xvQ"
      }
    },
    {
      "cell_type": "code",
      "source": [
        "#example\n",
        "def apply_function(func, value):\n",
        "    return func(value)\n",
        "\n",
        "def square(x):\n",
        "    return x * x\n",
        "\n",
        "print(apply_function(square, 4))\n"
      ],
      "metadata": {
        "colab": {
          "base_uri": "https://localhost:8080/"
        },
        "id": "ZzXosLAy2uHu",
        "outputId": "c2000b75-fcbb-4332-b3eb-dc9d2f5094d4"
      },
      "execution_count": null,
      "outputs": [
        {
          "output_type": "stream",
          "name": "stdout",
          "text": [
            "16\n"
          ]
        }
      ]
    },
    {
      "cell_type": "markdown",
      "source": [
        "5. Returning Functions from Other Functions:\n",
        "Functions can return other functions, which allows for creating function factories or decorators."
      ],
      "metadata": {
        "id": "Dy2Jluss25_3"
      }
    },
    {
      "cell_type": "code",
      "source": [
        "#example\n",
        "def outer_function(msg):\n",
        "    def inner_function():\n",
        "        return f\"Message: {msg}\"\n",
        "    return inner_function\n",
        "\n",
        "returned_function = outer_function(\"Hello!\")\n",
        "print(returned_function())\n"
      ],
      "metadata": {
        "colab": {
          "base_uri": "https://localhost:8080/"
        },
        "id": "I1SIEFWZ231w",
        "outputId": "2f732778-e45d-43c8-9f98-b79d83e25de6"
      },
      "execution_count": null,
      "outputs": [
        {
          "output_type": "stream",
          "name": "stdout",
          "text": [
            "Message: Hello!\n"
          ]
        }
      ]
    },
    {
      "cell_type": "markdown",
      "source": [
        "6. Calling Functions with Positional Arguments:\n",
        "Positional arguments are passed to the function in the same order as the parameters are defined."
      ],
      "metadata": {
        "id": "D-CJ-Xr03CNu"
      }
    },
    {
      "cell_type": "code",
      "source": [
        "#example\n",
        "def multiply(x, y):\n",
        "    return x * y\n",
        "\n",
        "print(multiply(2, 3))\n"
      ],
      "metadata": {
        "colab": {
          "base_uri": "https://localhost:8080/"
        },
        "id": "voNlSz3a3A7g",
        "outputId": "34ecc902-6257-4b53-ae4e-4b3df975f543"
      },
      "execution_count": null,
      "outputs": [
        {
          "output_type": "stream",
          "name": "stdout",
          "text": [
            "6\n"
          ]
        }
      ]
    },
    {
      "cell_type": "markdown",
      "source": [
        "7. Calling Functions with Keyword Arguments:\n",
        "Keyword arguments allow you to specify arguments by their parameter names."
      ],
      "metadata": {
        "id": "TCeSKHmN3IvD"
      }
    },
    {
      "cell_type": "code",
      "source": [
        "#example\n",
        "def introduce(first_name, last_name):\n",
        "    print(f\"My name is {first_name} {last_name}.\")\n",
        "\n",
        "introduce(last_name=\"Doe\", first_name=\"John\")\n"
      ],
      "metadata": {
        "colab": {
          "base_uri": "https://localhost:8080/"
        },
        "id": "vqnWD-lo3G5W",
        "outputId": "3d4c889f-f8fd-4bf4-eed0-c4829499cbb3"
      },
      "execution_count": null,
      "outputs": [
        {
          "output_type": "stream",
          "name": "stdout",
          "text": [
            "My name is John Doe.\n"
          ]
        }
      ]
    },
    {
      "cell_type": "markdown",
      "source": [
        "8. Calling Functions with Default Arguments:\n",
        "Functions can have parameters with default values that are used if no argument is provided."
      ],
      "metadata": {
        "id": "B76RJk_D3Pcc"
      }
    },
    {
      "cell_type": "code",
      "source": [
        "#example\n",
        "def greet(name=\"Guest\"):\n",
        "    print(f\"Hello, {name}!\")\n",
        "\n",
        "greet()\n",
        "greet(\"Alice\")\n"
      ],
      "metadata": {
        "colab": {
          "base_uri": "https://localhost:8080/"
        },
        "id": "fDjoC4Mx3OYj",
        "outputId": "9d5da510-0985-4558-eb0a-3f8bc631d795"
      },
      "execution_count": null,
      "outputs": [
        {
          "output_type": "stream",
          "name": "stdout",
          "text": [
            "Hello, Guest!\n",
            "Hello, Alice!\n"
          ]
        }
      ]
    },
    {
      "cell_type": "markdown",
      "source": [
        "9. Calling Functions with Variable-Length Arguments:\n",
        "Functions can accept a variable number of arguments using *args for positional arguments and **kwargs for keyword arguments."
      ],
      "metadata": {
        "id": "HKM9Km5I3YLB"
      }
    },
    {
      "cell_type": "code",
      "source": [
        "#Example with *args\n",
        "def sum_all(*numbers):\n",
        "    return sum(numbers)\n",
        "\n",
        "print(sum_all(1, 2, 3, 4))\n"
      ],
      "metadata": {
        "colab": {
          "base_uri": "https://localhost:8080/"
        },
        "id": "IsFffjtD3XEm",
        "outputId": "177556d9-a4e8-4380-cae8-1e9067fb3deb"
      },
      "execution_count": null,
      "outputs": [
        {
          "output_type": "stream",
          "name": "stdout",
          "text": [
            "10\n"
          ]
        }
      ]
    },
    {
      "cell_type": "code",
      "source": [
        "#Example with **kwargs\n",
        "def print_info(**info):\n",
        "    for key, value in info.items():\n",
        "        print(f\"{key}: {value}\")\n",
        "\n",
        "print_info(name=\"Alice\", age=30)\n"
      ],
      "metadata": {
        "colab": {
          "base_uri": "https://localhost:8080/"
        },
        "id": "8V8Qy8HQ3rXl",
        "outputId": "f53d564b-dc8c-437c-9555-b76acbe46401"
      },
      "execution_count": null,
      "outputs": [
        {
          "output_type": "stream",
          "name": "stdout",
          "text": [
            "name: Alice\n",
            "age: 30\n"
          ]
        }
      ]
    },
    {
      "cell_type": "markdown",
      "source": [
        "10. Using Decorators to Modify Function Behavior:\n",
        "Decorators are a way to modify the behavior of a function or method."
      ],
      "metadata": {
        "id": "D6McR7Vw30fU"
      }
    },
    {
      "cell_type": "code",
      "source": [
        "def decorator(func):\n",
        "    def wrapper():\n",
        "        print(\"Before the function call\")\n",
        "        func()\n",
        "        print(\"After the function call\")\n",
        "    return wrapper\n",
        "\n",
        "@decorator\n",
        "def say_hello():\n",
        "    print(\"Hello!\")\n",
        "\n",
        "say_hello()\n",
        "\n"
      ],
      "metadata": {
        "colab": {
          "base_uri": "https://localhost:8080/"
        },
        "id": "E6SRYnod3zOO",
        "outputId": "0d984d58-4d41-48cd-b9f3-4ca989e89a14"
      },
      "execution_count": null,
      "outputs": [
        {
          "output_type": "stream",
          "name": "stdout",
          "text": [
            "Before the function call\n",
            "Hello!\n",
            "After the function call\n"
          ]
        }
      ]
    },
    {
      "cell_type": "markdown",
      "source": [
        "Ques-4  What is the purpose of the `return` statement in a Python function?"
      ],
      "metadata": {
        "id": "1Jn3nyfF4H9K"
      }
    },
    {
      "cell_type": "markdown",
      "source": [
        "The return statement in a Python function is used to exit the function and optionally pass back a value (or multiple values) to the caller. It serves several key purposes:\n",
        "\n",
        "1. Exiting the Function:\n",
        "The return statement immediately terminates the execution of the function, regardless of where it is encountered within the function body.\n",
        "If return is used without a value (return alone), the function will exit and return None by default."
      ],
      "metadata": {
        "id": "FAnRnF8D4LU0"
      }
    },
    {
      "cell_type": "code",
      "source": [
        "#example\n",
        "def example():\n",
        "    print(\"This will be printed.\")\n",
        "    return  # Function exits here\n",
        "    print(\"This will NOT be printed.\")  # This line is never reached\n",
        "\n",
        "example()\n"
      ],
      "metadata": {
        "id": "CoFZTfBl35vd",
        "colab": {
          "base_uri": "https://localhost:8080/"
        },
        "outputId": "a1cc7b79-2c1b-4114-e929-5401894be328"
      },
      "execution_count": null,
      "outputs": [
        {
          "output_type": "stream",
          "name": "stdout",
          "text": [
            "This will be printed.\n"
          ]
        }
      ]
    },
    {
      "cell_type": "markdown",
      "source": [
        "2. Returning a Value:\n",
        "The primary purpose of return is to send a result back to the caller of the function. This result can be of any data type, including integers, strings, lists, objects, or even other functions.\n",
        "You can also return multiple values as a tuple by separating them with commas."
      ],
      "metadata": {
        "id": "V1d9rMTcY6qK"
      }
    },
    {
      "cell_type": "code",
      "source": [
        "#example\n",
        "def add(a, b):\n",
        "    return a + b  # Returns the sum of a and b\n",
        "\n",
        "result = add(3, 4)\n",
        "print(result)"
      ],
      "metadata": {
        "id": "tReGdWOsYejn",
        "colab": {
          "base_uri": "https://localhost:8080/"
        },
        "outputId": "0c504130-0147-43eb-a72e-9f8c09348490"
      },
      "execution_count": null,
      "outputs": [
        {
          "output_type": "stream",
          "name": "stdout",
          "text": [
            "7\n"
          ]
        }
      ]
    },
    {
      "cell_type": "code",
      "source": [
        "#example(Returning Multiple Values)\n",
        "def get_coordinates():\n",
        "    return 10, 20  # Returns a tuple (10, 20)\n",
        "\n",
        "x, y = get_coordinates()\n",
        "print(x, y)"
      ],
      "metadata": {
        "colab": {
          "base_uri": "https://localhost:8080/"
        },
        "id": "5dfWZ1uRZCVA",
        "outputId": "b6c556ac-19bb-4130-d49c-29c695277488"
      },
      "execution_count": null,
      "outputs": [
        {
          "output_type": "stream",
          "name": "stdout",
          "text": [
            "10 20\n"
          ]
        }
      ]
    },
    {
      "cell_type": "markdown",
      "source": [
        "3. Returning a Function’s Output for Further Use:\n",
        "Returning values allows the output of a function to be used in further operations, calculations, or logic elsewhere in the program."
      ],
      "metadata": {
        "id": "E3df61etZKpN"
      }
    },
    {
      "cell_type": "code",
      "source": [
        "#example\n",
        "def square(x):\n",
        "    return x * x\n",
        "\n",
        "value = square(5)  # The result of square(5) can be used in further calculations\n",
        "print(value + 10)\n"
      ],
      "metadata": {
        "colab": {
          "base_uri": "https://localhost:8080/"
        },
        "id": "wc_cvTnmZJhs",
        "outputId": "d6b5596b-6d3e-476c-d853-4012c720b9f7"
      },
      "execution_count": null,
      "outputs": [
        {
          "output_type": "stream",
          "name": "stdout",
          "text": [
            "35\n"
          ]
        }
      ]
    },
    {
      "cell_type": "markdown",
      "source": [
        "4. Conditional Returns:\n",
        "The return statement can be used conditionally to exit a function early based on certain conditions, which can make code more efficient and readable."
      ],
      "metadata": {
        "id": "lN5B-dz0ZULI"
      }
    },
    {
      "cell_type": "code",
      "source": [
        "#example\n",
        "def check_even(number):\n",
        "    if number % 2 == 0:\n",
        "        return \"Even\"  # Returns \"Even\" and exits if the number is even\n",
        "    return \"Odd\"       # Otherwise, returns \"Odd\"\n",
        "\n",
        "print(check_even(4))\n",
        "print(check_even(5))\n"
      ],
      "metadata": {
        "colab": {
          "base_uri": "https://localhost:8080/"
        },
        "id": "HfNuPtYrZSy-",
        "outputId": "87fffc93-d93d-4c14-ddac-474ad0b4002c"
      },
      "execution_count": null,
      "outputs": [
        {
          "output_type": "stream",
          "name": "stdout",
          "text": [
            "Even\n",
            "Odd\n"
          ]
        }
      ]
    },
    {
      "cell_type": "markdown",
      "source": [
        "5. Handling Control Flow:\n",
        "Using return strategically helps manage control flow within functions, allowing you to control exactly when and what the function outputs."
      ],
      "metadata": {
        "id": "IoyogDV8ZfKc"
      }
    },
    {
      "cell_type": "markdown",
      "source": [
        "Ques-5 What are iterators in Python and how do they differ from iterables?"
      ],
      "metadata": {
        "id": "AaCMmvX3ZjyN"
      }
    },
    {
      "cell_type": "markdown",
      "source": [
        "Iterables:\n",
        "An iterable is any Python object that can return its elements one at a time, allowing you to loop over it. Examples include lists, tuples, strings, dictionaries, sets, and other custom objects that implement the __iter__() method.\n",
        "\n",
        "Key Feature: Iterables have an __iter__() method that returns an iterator. They are objects you can loop over using a for loop.\n",
        "\n",
        "Iterables do not keep track of their iteration state (i.e., they don’t know what the “next” element is)."
      ],
      "metadata": {
        "id": "a5W1MCjmogZL"
      }
    },
    {
      "cell_type": "code",
      "source": [
        "#example\n",
        "my_list = [1, 2, 3]\n",
        "for item in my_list:  # my_list is an iterable\n",
        "    print(item)\n"
      ],
      "metadata": {
        "id": "aYGVfcOYZcgB",
        "colab": {
          "base_uri": "https://localhost:8080/"
        },
        "outputId": "35467497-f5c0-4eff-ef3b-9fa622fc1bd0"
      },
      "execution_count": null,
      "outputs": [
        {
          "output_type": "stream",
          "name": "stdout",
          "text": [
            "1\n",
            "2\n",
            "3\n"
          ]
        }
      ]
    },
    {
      "cell_type": "markdown",
      "source": [
        "Iterators:\n",
        "An iterator is an object that represents a stream of data. It produces the elements of the iterable one at a time when requested, keeping track of the current position during iteration. Iterators implement both the __iter__() and __next__() methods.\n",
        "\n",
        "__iter__(): Returns the iterator object itself.\n",
        "\n",
        "__next__(): Returns the next element in the sequence. When there are no more elements, it raises a StopIteration exception.\n",
        "\n",
        "Key Feature: Iterators are used to iterate over iterables. They produce the next value only when requested via __next__()."
      ],
      "metadata": {
        "id": "pRRi7FA_o1DF"
      }
    },
    {
      "cell_type": "code",
      "source": [
        "#example\n",
        "my_list = [1, 2, 3]\n",
        "iterator = iter(my_list)  # Obtain an iterator from the iterable\n",
        "print(next(iterator))  # Output: 1\n",
        "print(next(iterator))  # Output: 2\n",
        "print(next(iterator))  # Output: 3\n",
        "# next(iterator)  # Raises StopIteration\n"
      ],
      "metadata": {
        "colab": {
          "base_uri": "https://localhost:8080/"
        },
        "id": "UAFY4cmOov5S",
        "outputId": "fa69ea85-c18b-43dc-d7b8-6ab368256f39"
      },
      "execution_count": null,
      "outputs": [
        {
          "output_type": "stream",
          "name": "stdout",
          "text": [
            "1\n",
            "2\n",
            "3\n"
          ]
        }
      ]
    },
    {
      "cell_type": "markdown",
      "source": [
        "Differences Between Iterators and Iterables:\n",
        "\n",
        "Capability:\n",
        "\n",
        "Iterable: Can be looped over, but doesn’t know how to produce the next value directly.\n",
        "\n",
        "Iterator: Knows how to produce the next value and keeps track of its state during iteration.\n",
        "\n",
        "Methods:\n",
        "\n",
        "Iterable: Must implement the __iter__() method, which returns an iterator.\n",
        "\n",
        "Iterator: Must implement both __iter__() and __next__() methods.\n",
        "\n",
        "State Management:\n",
        "\n",
        "Iterable: Does not maintain state; it’s essentially a collection of items.\n",
        "\n",
        "Iterator: Maintains state during iteration and knows what the next item is.\n",
        "\n",
        "Reusability:\n",
        "\n",
        "\n",
        "Iterable: You can create a new iterator from an iterable multiple times and start iteration from the beginning each time.\n",
        "\n",
        "Iterator: Once an iterator is exhausted (i.e., StopIteration is raised), it cannot be reset or reused.\n",
        "\n",
        "Creating Iterators:\n",
        "\n",
        "Iterable: Use iter() to get an iterator.\n",
        "\n",
        "Iterator: Directly used in loops or with next()."
      ],
      "metadata": {
        "id": "nsL9Z_6OpCnw"
      }
    },
    {
      "cell_type": "code",
      "source": [
        "#example (Using a list (an iterable) and getting an iterator from it)\n",
        "my_list = [1, 2, 3]       # my_list is an iterable\n",
        "my_iterator = iter(my_list)  # my_iterator is an iterator\n",
        "\n",
        "print(next(my_iterator))  # Output: 1\n",
        "print(next(my_iterator))  # Output: 2\n",
        "print(next(my_iterator))  # Output: 3\n",
        "# next(my_iterator)      # Raises StopIteration\n"
      ],
      "metadata": {
        "colab": {
          "base_uri": "https://localhost:8080/"
        },
        "id": "NTPJY08WpBRk",
        "outputId": "dd38dab0-012d-4cc9-d7ab-2e98febc00be"
      },
      "execution_count": null,
      "outputs": [
        {
          "output_type": "stream",
          "name": "stdout",
          "text": [
            "1\n",
            "2\n",
            "3\n"
          ]
        }
      ]
    },
    {
      "cell_type": "markdown",
      "source": [
        "Ques-6  Explain the concept of generators in Python and how they are defined."
      ],
      "metadata": {
        "id": "mH_o-93VpcQo"
      }
    },
    {
      "cell_type": "markdown",
      "source": [
        "A generator is a function that returns an iterator object, which we can iterate over (one value at a time). Generators allow for on-the-fly generation of values, providing a way to generate data sequences efficiently.\n",
        "\n",
        "How It Works: Instead of using return, a generator uses the yield statement to return a value and pause its execution. The state of the function (including variable bindings) is saved between yield calls, allowing the function to resume where it left off when the next value is requested.\n",
        "\n",
        "Memory Efficiency: Since generators produce items one at a time, they use much less memory compared to traditional data structures like lists, especially when working with large datasets."
      ],
      "metadata": {
        "id": "WVVphzY3zHwX"
      }
    },
    {
      "cell_type": "markdown",
      "source": [
        "Defining Generators:\n",
        "\n",
        "Generators are defined similarly to regular functions but use yield:"
      ],
      "metadata": {
        "id": "6mkd3XRrzQ2e"
      }
    },
    {
      "cell_type": "code",
      "source": [
        "#example\n",
        "def count_up_to(max):\n",
        "    count = 1\n",
        "    while count <= max:\n",
        "        yield count\n",
        "        count += 1\n"
      ],
      "metadata": {
        "id": "81TfBN2Mpa3x"
      },
      "execution_count": null,
      "outputs": []
    },
    {
      "cell_type": "code",
      "source": [
        "counter = count_up_to(5)  # Creates a generator object\n",
        "print(next(counter))\n",
        "print(next(counter))\n",
        "print(next(counter))\n",
        "# and so on...\n"
      ],
      "metadata": {
        "colab": {
          "base_uri": "https://localhost:8080/"
        },
        "id": "ZFUxjR3KzVfy",
        "outputId": "95a03fd6-6a0a-473f-ab48-5f5f1ffb039f"
      },
      "execution_count": null,
      "outputs": [
        {
          "output_type": "stream",
          "name": "stdout",
          "text": [
            "1\n",
            "2\n",
            "3\n"
          ]
        }
      ]
    },
    {
      "cell_type": "markdown",
      "source": [
        "The generator maintains its state between calls, and when the function reaches yield, it produces a value and pauses. When next() is called again, it resumes from where it left off."
      ],
      "metadata": {
        "id": "7_GcPVdlzh1Y"
      }
    },
    {
      "cell_type": "markdown",
      "source": [
        "Examples of Using Generators:\n",
        "\n",
        "1. Simple Range Generator:"
      ],
      "metadata": {
        "id": "tcCXrdgxzrF0"
      }
    },
    {
      "cell_type": "code",
      "source": [
        "def my_range(start, end, step):\n",
        "    current = start\n",
        "    while current < end:\n",
        "        yield current\n",
        "        current += step\n",
        "\n",
        "for number in my_range(1, 10, 2):\n",
        "    print(number)\n"
      ],
      "metadata": {
        "colab": {
          "base_uri": "https://localhost:8080/"
        },
        "id": "ZR28TS2zzduO",
        "outputId": "a3c66e1e-0014-4cb9-c438-0238c9a60b82"
      },
      "execution_count": null,
      "outputs": [
        {
          "output_type": "stream",
          "name": "stdout",
          "text": [
            "1\n",
            "3\n",
            "5\n",
            "7\n",
            "9\n"
          ]
        }
      ]
    },
    {
      "cell_type": "markdown",
      "source": [
        "2. Infinite Sequence Generator:"
      ],
      "metadata": {
        "id": "lmFtIbLazwiP"
      }
    },
    {
      "cell_type": "code",
      "source": [
        "def infinite_counter():\n",
        "    count = 0\n",
        "    while True:\n",
        "        yield count\n",
        "        count += 1\n",
        "\n",
        "counter = infinite_counter()\n",
        "print(next(counter))\n",
        "print(next(counter))\n",
        "# and so on...\n"
      ],
      "metadata": {
        "colab": {
          "base_uri": "https://localhost:8080/"
        },
        "id": "eRRiRpANzuSD",
        "outputId": "907748a3-c468-4c73-def8-8b0bf922959a"
      },
      "execution_count": null,
      "outputs": [
        {
          "output_type": "stream",
          "name": "stdout",
          "text": [
            "0\n",
            "1\n"
          ]
        }
      ]
    },
    {
      "cell_type": "markdown",
      "source": [
        "3. Generator Expressions:\n",
        "\n",
        "Generator expressions are similar to list comprehensions but use parentheses instead of square brackets, making them more memory-efficient."
      ],
      "metadata": {
        "id": "N_EcGslC0Gar"
      }
    },
    {
      "cell_type": "code",
      "source": [
        "squares = (x * x for x in range(10))  # Generator expression\n",
        "print(next(squares))\n",
        "print(next(squares))\n"
      ],
      "metadata": {
        "colab": {
          "base_uri": "https://localhost:8080/"
        },
        "id": "WugzPkIZz6AK",
        "outputId": "6f664db8-0845-46b0-9422-684fc6bde902"
      },
      "execution_count": null,
      "outputs": [
        {
          "output_type": "stream",
          "name": "stdout",
          "text": [
            "0\n",
            "1\n"
          ]
        }
      ]
    },
    {
      "cell_type": "markdown",
      "source": [
        "Ques-7  What are the advantages of using generators over regular functions?"
      ],
      "metadata": {
        "id": "WbHm0Etd0R1n"
      }
    },
    {
      "cell_type": "markdown",
      "source": [
        "1. Memory Efficiency:\n",
        "\n",
        "Lazy Evaluation: Generators produce items one at a time and only when requested, which means they do not store the entire sequence in memory. This is especially useful for working with large datasets, streams, or infinite sequences.\n",
        "\n",
        "Low Memory Footprint: Since generators yield items one by one, they use significantly less memory compared to lists or other data structures that store all elements at once."
      ],
      "metadata": {
        "id": "V6zn3ABgkQ5K"
      }
    },
    {
      "cell_type": "code",
      "source": [
        "#example\n",
        "def generate_numbers(limit):\n",
        "    for i in range(limit):\n",
        "        yield i\n",
        "\n",
        "gen = generate_numbers(10**6)  # Uses very little memory, regardless of the limit size\n"
      ],
      "metadata": {
        "id": "VgO5yBOU0MJf"
      },
      "execution_count": null,
      "outputs": []
    },
    {
      "cell_type": "markdown",
      "source": [
        "2. Improved Performance:\n",
        "\n",
        "Faster Execution: Generators can start producing values immediately without waiting to generate the entire sequence, resulting in faster initial execution.\n",
        "\n",
        "Reduced Overhead: Because generators don’t allocate memory for the entire result set, the overhead associated with memory management is reduced, leading to quicker execution in many cases.\n",
        "3. Simplified Code:\n",
        "\n",
        "Cleaner Code for Iteration: Generators simplify iteration code by managing state automatically and providing a natural way to loop through items. This can lead to clearer and more readable code compared to manually implementing iterators or using loops that require managing indices and conditions."
      ],
      "metadata": {
        "id": "nGenAcWul3Ta"
      }
    },
    {
      "cell_type": "code",
      "source": [
        "def read_lines(file_path):\n",
        "    with open(file_path) as file:\n",
        "        for line in file:\n",
        "            yield line.strip()\n",
        "\n",
        "# Use the generator to process lines one at a time\n",
        "for line in read_lines('large_file.txt'):\n",
        "    print(line)\n"
      ],
      "metadata": {
        "id": "5enDsj5Il_1F"
      },
      "execution_count": null,
      "outputs": []
    },
    {
      "cell_type": "markdown",
      "source": [
        "4. Handling Infinite Sequences:\n",
        "\n",
        "Support for Infinite Iteration: Generators are ideal for representing infinite sequences (e.g., numbers, data streams) because they do not try to store all values at once. This allows for continuous data processing without running into memory limits."
      ],
      "metadata": {
        "id": "VSPMHkrgmPla"
      }
    },
    {
      "cell_type": "code",
      "source": [
        "def infinite_counter():\n",
        "    count = 0\n",
        "    while True:\n",
        "        yield count\n",
        "        count += 1\n",
        "\n",
        "counter = infinite_counter()\n",
        "print(next(counter))\n",
        "print(next(counter))\n",
        "# Continues infinitely\n"
      ],
      "metadata": {
        "colab": {
          "base_uri": "https://localhost:8080/"
        },
        "id": "Q7BP11VVmXbw",
        "outputId": "11da7545-afe8-4356-dc1f-a47dc831a817"
      },
      "execution_count": null,
      "outputs": [
        {
          "output_type": "stream",
          "name": "stdout",
          "text": [
            "0\n",
            "1\n"
          ]
        }
      ]
    },
    {
      "cell_type": "markdown",
      "source": [
        "5. Easier State Management:\n",
        "\n",
        "Automatic State Retention: Generators automatically retain their execution state, including local variables, between calls to next(). This makes it easier to manage complex state without needing to use external data structures or extra variables.\n",
        "6. Improved Readability and Maintainability:\n",
        "\n",
        "Conciseness: Using yield allows you to write simpler, more concise functions that perform complex iteration. This can replace more cumbersome code like building lists with append() or implementing custom iterator classes.\n",
        "\n",
        "Modularity: Generators provide a clear modular approach to iteration. They can be easily combined, chained, or modified without altering the core logic, enhancing code reusability."
      ],
      "metadata": {
        "id": "8Dt6ZIC1mZoH"
      }
    },
    {
      "cell_type": "code",
      "source": [
        "def fibonacci():\n",
        "    a, b = 0, 1\n",
        "    while True:\n",
        "        yield a\n",
        "        a, b = b, a + b\n",
        "\n",
        "fib = fibonacci()\n",
        "print(next(fib))\n",
        "print(next(fib))\n",
        "print(next(fib))\n",
        "# and so on...\n"
      ],
      "metadata": {
        "colab": {
          "base_uri": "https://localhost:8080/"
        },
        "id": "y5YExxLymYSv",
        "outputId": "082ecd9f-67b3-4575-db54-39bb0b32afea"
      },
      "execution_count": null,
      "outputs": [
        {
          "output_type": "stream",
          "name": "stdout",
          "text": [
            "0\n",
            "1\n",
            "1\n"
          ]
        }
      ]
    },
    {
      "cell_type": "markdown",
      "source": [
        "7. Pausing Execution:\n",
        "\n",
        "Pause and Resume: Generators pause execution when yielding a value and resume from the exact point they left off when called again. This makes them perfect for handling tasks that involve waiting, such as reading large files or handling asynchronous operations.\n",
        "8. Reduced Boilerplate Code:\n",
        "\n",
        "No Need for Custom Iterators: Instead of creating classes with __iter__() and __next__() methods to implement custom iteration logic, generators offer a built-in way to handle iteration with much less code."
      ],
      "metadata": {
        "id": "ZZYvV6KDmq4N"
      }
    },
    {
      "cell_type": "markdown",
      "source": [
        "Ques-8  What is a lambda function in Python and when is it typically used?"
      ],
      "metadata": {
        "id": "lAlhWRA8mup8"
      }
    },
    {
      "cell_type": "markdown",
      "source": [
        "A lambda function in Python is a small, anonymous function defined using the lambda keyword. Lambda functions are typically used for short, simple operations that are not complex enough to warrant a full function definition. They are often used when a function is needed for a short period of time, usually as an argument to higher-order functions (functions that take other functions as arguments)."
      ],
      "metadata": {
        "id": "R4Q2SZIxm2pL"
      }
    },
    {
      "cell_type": "code",
      "source": [
        "#syntax\n",
        "lambda arguments: expression\n"
      ],
      "metadata": {
        "id": "9n9NNzdZnOfD"
      },
      "execution_count": null,
      "outputs": []
    },
    {
      "cell_type": "markdown",
      "source": [
        "Arguments: A comma-separated list of parameters, similar to regular functions.\n",
        "\n",
        "Expression: A single expression that is evaluated and returned. No statements or multi-line code blocks are allowed."
      ],
      "metadata": {
        "id": "4RsxmzTcnSq9"
      }
    },
    {
      "cell_type": "code",
      "source": [
        "#example\n",
        "add = lambda x, y: x + y\n",
        "\n",
        "print(add(3, 4))\n"
      ],
      "metadata": {
        "colab": {
          "base_uri": "https://localhost:8080/"
        },
        "id": "NyjVduW3nVrz",
        "outputId": "a7e7fab2-455e-4a8b-d86a-3417584638ec"
      },
      "execution_count": null,
      "outputs": [
        {
          "output_type": "stream",
          "name": "stdout",
          "text": [
            "7\n"
          ]
        }
      ]
    },
    {
      "cell_type": "markdown",
      "source": [
        "When to Use Lambda Functions:\n",
        "\n",
        "1. As Short, Inline Functions:\n",
        "\n",
        "When you need a quick, small function for a short period, such as within a list comprehension, map, filter, or reduce.\n",
        "\n",
        "Example with map:"
      ],
      "metadata": {
        "id": "xPcqmoY3nebT"
      }
    },
    {
      "cell_type": "code",
      "source": [
        "numbers = [1, 2, 3, 4]\n",
        "squared = map(lambda x: x * x, numbers)\n",
        "print(list(squared))\n"
      ],
      "metadata": {
        "colab": {
          "base_uri": "https://localhost:8080/"
        },
        "id": "WHd-sIBynbCg",
        "outputId": "90c5b96c-871e-4a24-904f-e774b5ee7fd3"
      },
      "execution_count": null,
      "outputs": [
        {
          "output_type": "stream",
          "name": "stdout",
          "text": [
            "[1, 4, 9, 16]\n"
          ]
        }
      ]
    },
    {
      "cell_type": "markdown",
      "source": [
        "2. In Higher-Order Functions:\n",
        "\n",
        "Lambda functions are often used as arguments to functions that accept other functions, like map(), filter(), sorted(), and reduce().\n",
        "\n",
        "Example with filter:"
      ],
      "metadata": {
        "id": "mn57XQdfntZU"
      }
    },
    {
      "cell_type": "code",
      "source": [
        "numbers = [1, 2, 3, 4, 5, 6]\n",
        "even_numbers = filter(lambda x: x % 2 == 0, numbers)\n",
        "print(list(even_numbers))\n"
      ],
      "metadata": {
        "colab": {
          "base_uri": "https://localhost:8080/"
        },
        "id": "UjOqXbTsnsQk",
        "outputId": "92f81654-cd13-47bd-ff07-84e4786c2da6"
      },
      "execution_count": null,
      "outputs": [
        {
          "output_type": "stream",
          "name": "stdout",
          "text": [
            "[2, 4, 6]\n"
          ]
        }
      ]
    },
    {
      "cell_type": "markdown",
      "source": [
        "3. For Simple Callbacks:\n",
        "\n",
        "When you need a simple callback function in GUI applications or event-driven programming.\n",
        "\n",
        "4. Sorting or Custom Sorting:\n",
        "\n",
        "Used as a key function in sorting, like with sorted() or sort(), when sorting by a specific attribute or calculation.\n"
      ],
      "metadata": {
        "id": "nja11VXgn4fZ"
      }
    },
    {
      "cell_type": "code",
      "source": [
        "#example\n",
        "points = [(2, 3), (1, 2), (4, 1)]\n",
        "sorted_points = sorted(points, key=lambda point: point[1])  # Sort by second element\n",
        "print(sorted_points)\n"
      ],
      "metadata": {
        "colab": {
          "base_uri": "https://localhost:8080/"
        },
        "id": "Ak0awVOln3gp",
        "outputId": "2d7e43a9-f960-404b-cd1f-3b8b3c2eadcd"
      },
      "execution_count": null,
      "outputs": [
        {
          "output_type": "stream",
          "name": "stdout",
          "text": [
            "[(4, 1), (1, 2), (2, 3)]\n"
          ]
        }
      ]
    },
    {
      "cell_type": "markdown",
      "source": [
        "5. Replacing Simple Named Functions:\n",
        "\n",
        "In cases where the function is so simple that creating a named function would be unnecessarily verbose."
      ],
      "metadata": {
        "id": "a_CaK1beoDxf"
      }
    },
    {
      "cell_type": "markdown",
      "source": [
        "Ques-9  Explain the purpose and usage of the `map()` function in Python."
      ],
      "metadata": {
        "id": "3KRCpflJoL6p"
      }
    },
    {
      "cell_type": "markdown",
      "source": [
        "The map() function in Python is a built-in function used to apply a specified function to each item of an iterable (like a list, tuple, or set) and returns a map object (which is an iterator) containing the results. It provides a convenient way to transform data by applying a function to all items in a sequence.\n",
        "\n",
        "Purpose of map():\n",
        "\n",
        "Transformation: The primary purpose of map() is to transform elements of an iterable by applying a function to each element. This makes it useful for tasks such as converting data types, performing calculations, or manipulating strings in bulk.\n",
        "\n",
        "Efficiency: Since map() returns an iterator, it is memory efficient, as it doesn’t create an entire list of results at once. Instead, values are computed on-the-fly as you iterate through the results."
      ],
      "metadata": {
        "id": "xYSzR4spoTBK"
      }
    },
    {
      "cell_type": "code",
      "source": [
        "#syntax\n",
        "map(function, iterable, ...)\n"
      ],
      "metadata": {
        "id": "vxmjdWuKoCXQ"
      },
      "execution_count": null,
      "outputs": []
    },
    {
      "cell_type": "markdown",
      "source": [
        "function: A function that takes one or more arguments. This function is applied to each item of the iterable(s).\n",
        "\n",
        "iterable: One or more iterable(s) (like lists, tuples, etc.). map() applies the function to each element of the iterable(s) in parallel."
      ],
      "metadata": {
        "id": "Q1795dP7sRmn"
      }
    },
    {
      "cell_type": "markdown",
      "source": [
        "Usage Examples:\n",
        "\n",
        "1. Applying a Function to a List:\n",
        "\n",
        "Applying a simple function that squares each number in a list:"
      ],
      "metadata": {
        "id": "w7jwQ9tKsVr1"
      }
    },
    {
      "cell_type": "code",
      "source": [
        "#example\n",
        "def square(x):\n",
        "    return x * x\n",
        "\n",
        "numbers = [1, 2, 3, 4]\n",
        "squared_numbers = map(square, numbers)  # Returns an iterator\n",
        "print(list(squared_numbers))\n"
      ],
      "metadata": {
        "colab": {
          "base_uri": "https://localhost:8080/"
        },
        "id": "3MOTFSQfsVIg",
        "outputId": "7b9a1640-4b32-4c87-8bd2-4b587ec1b68c"
      },
      "execution_count": null,
      "outputs": [
        {
          "output_type": "stream",
          "name": "stdout",
          "text": [
            "[1, 4, 9, 16]\n"
          ]
        }
      ]
    },
    {
      "cell_type": "markdown",
      "source": [
        "2. Using a Lambda Function with map():\n",
        "\n",
        "Lambda function can be used to keep the code concise:"
      ],
      "metadata": {
        "id": "K3OOnkdVshZm"
      }
    },
    {
      "cell_type": "code",
      "source": [
        "#example\n",
        "numbers = [1, 2, 3, 4]\n",
        "squared_numbers = map(lambda x: x * x, numbers)\n",
        "print(list(squared_numbers))\n"
      ],
      "metadata": {
        "colab": {
          "base_uri": "https://localhost:8080/"
        },
        "id": "aIxp1ahCsgc-",
        "outputId": "85f964d3-14d6-4202-b8a3-5f64ab767e2d"
      },
      "execution_count": null,
      "outputs": [
        {
          "output_type": "stream",
          "name": "stdout",
          "text": [
            "[1, 4, 9, 16]\n"
          ]
        }
      ]
    },
    {
      "cell_type": "markdown",
      "source": [
        "3. Mapping with Multiple Iterables:\n",
        "\n",
        "If multiple iterables are passed, the function should accept that many arguments. The function is applied to the items of the iterables in parallel (pairing elements by position):"
      ],
      "metadata": {
        "id": "_DGtXSGTsptE"
      }
    },
    {
      "cell_type": "code",
      "source": [
        "#example\n",
        "numbers1 = [1, 2, 3]\n",
        "numbers2 = [4, 5, 6]\n",
        "summed_numbers = map(lambda x, y: x + y, numbers1, numbers2)\n",
        "print(list(summed_numbers))\n"
      ],
      "metadata": {
        "colab": {
          "base_uri": "https://localhost:8080/"
        },
        "id": "AUatTK6NsniW",
        "outputId": "02db756c-00a3-4efc-efbc-4724f9edb96c"
      },
      "execution_count": null,
      "outputs": [
        {
          "output_type": "stream",
          "name": "stdout",
          "text": [
            "[5, 7, 9]\n"
          ]
        }
      ]
    },
    {
      "cell_type": "markdown",
      "source": [
        "4. Converting Types:\n",
        "\n",
        "map() can be used to apply type conversions, such as converting strings to integers:"
      ],
      "metadata": {
        "id": "ci04LN0hsyRO"
      }
    },
    {
      "cell_type": "code",
      "source": [
        "#example\n",
        "str_numbers = ['1', '2', '3', '4']\n",
        "int_numbers = map(int, str_numbers)\n",
        "print(list(int_numbers))\n"
      ],
      "metadata": {
        "colab": {
          "base_uri": "https://localhost:8080/"
        },
        "id": "Mqcj1mdPsxaV",
        "outputId": "3cec92fe-96f8-4a2f-c3f1-ed0e30f6b166"
      },
      "execution_count": null,
      "outputs": [
        {
          "output_type": "stream",
          "name": "stdout",
          "text": [
            "[1, 2, 3, 4]\n"
          ]
        }
      ]
    },
    {
      "cell_type": "markdown",
      "source": [
        "Ques-10  What is the difference between `map()`, `reduce()`, and `filter()` functions in Python?"
      ],
      "metadata": {
        "id": "qC1BLagvtAn5"
      }
    },
    {
      "cell_type": "markdown",
      "source": [
        "Differences:\n",
        "\n",
        "1. Functionality:\n",
        "\n",
        "map(): Transforms each element in an iterable and returns an iterable of the same length.\n",
        "\n",
        "filter(): Selects elements from an iterable based on a condition and returns an iterable containing only elements that meet the condition.\n",
        "\n",
        "reduce(): Combines all elements of an iterable into a single value by applying a binary function repeatedly.\n",
        "\n",
        "2. Output:\n",
        "\n",
        "map() and filter(): Both return iterators (map and filter objects respectively) that can be converted to lists, tuples, etc.\n",
        "\n",
        "reduce(): Returns a single, cumulative value (not an iterable).\n",
        "\n",
        "3. Arguments:\n",
        "\n",
        "map(): Requires a function and one or more iterables.\n",
        "\n",
        "filter(): Requires a function and a single iterable.\n",
        "\n",
        "reduce(): Requires a function and a single iterable (optional initializer for starting value).\n",
        "\n",
        "4. Nature of the Function Applied:\n",
        "\n",
        "map(): Applies a unary function (single argument for each element).\n",
        "\n",
        "filter(): Applies a predicate function (returns True or False).\n",
        "\n",
        "reduce(): Applies a binary function (two arguments: current result and next element).\n",
        "\n",
        "5. Common Use Cases:\n",
        "\n",
        "map(): Transforming data, such as converting types or applying a function to modify elements.\n",
        "\n",
        "filter(): Selecting specific elements that meet criteria, like filtering out unwanted items.\n",
        "\n",
        "reduce(): Aggregating values, such as summing, multiplying, or concatenating elements."
      ],
      "metadata": {
        "id": "PVcIaxuHtCcK"
      }
    },
    {
      "cell_type": "code",
      "source": [
        "#example(map)\n",
        "numbers = [1, 2, 3, 4]\n",
        "squared = map(lambda x: x * x, numbers)  # Applies the lambda function to square each number\n",
        "print(list(squared))\n"
      ],
      "metadata": {
        "colab": {
          "base_uri": "https://localhost:8080/"
        },
        "id": "z0y-h9Tms6oH",
        "outputId": "929d4aa5-8f9e-4f66-bf96-09780794518a"
      },
      "execution_count": null,
      "outputs": [
        {
          "output_type": "stream",
          "name": "stdout",
          "text": [
            "[1, 4, 9, 16]\n"
          ]
        }
      ]
    },
    {
      "cell_type": "code",
      "source": [
        "#example(filter)\n",
        "numbers = [1, 2, 3, 4, 5, 6]\n",
        "evens = filter(lambda x: x % 2 == 0, numbers)  # Keeps only even numbers\n",
        "print(list(evens))\n"
      ],
      "metadata": {
        "colab": {
          "base_uri": "https://localhost:8080/"
        },
        "id": "5desxaxVt3qr",
        "outputId": "2ef0af3e-a19a-4078-919b-1043de81a7c3"
      },
      "execution_count": null,
      "outputs": [
        {
          "output_type": "stream",
          "name": "stdout",
          "text": [
            "[2, 4, 6]\n"
          ]
        }
      ]
    },
    {
      "cell_type": "code",
      "source": [
        "#example(reduce)\n",
        "from functools import reduce\n",
        "\n",
        "numbers = [1, 2, 3, 4]\n",
        "product = reduce(lambda x, y: x * y, numbers)  # Multiplies all numbers together\n",
        "print(product)\n"
      ],
      "metadata": {
        "colab": {
          "base_uri": "https://localhost:8080/"
        },
        "id": "SRqbtFFqt8lP",
        "outputId": "8709f534-3101-44fd-a93c-fad3c95da4af"
      },
      "execution_count": null,
      "outputs": [
        {
          "output_type": "stream",
          "name": "stdout",
          "text": [
            "24\n"
          ]
        }
      ]
    },
    {
      "cell_type": "markdown",
      "source": [
        "**PRACTICAL** **QUESTIONS**"
      ],
      "metadata": {
        "id": "Cd4hGZdmuFJZ"
      }
    },
    {
      "cell_type": "code",
      "source": [
        "#QUES-1\n",
        "def sum_of_even_numbers(numbers):\n",
        "    return sum(num for num in numbers if num % 2 == 0)\n",
        "\n",
        "\n",
        "input_list = [1, 2, 3, 4, 5, 6]\n",
        "even_sum = sum_of_even_numbers(input_list)\n",
        "print(even_sum)\n",
        "\n"
      ],
      "metadata": {
        "colab": {
          "base_uri": "https://localhost:8080/"
        },
        "id": "YjhnnG-QuCIk",
        "outputId": "130a0e38-a3f7-4b50-e1f9-c93d7256caff"
      },
      "execution_count": null,
      "outputs": [
        {
          "output_type": "stream",
          "name": "stdout",
          "text": [
            "12\n"
          ]
        }
      ]
    },
    {
      "cell_type": "code",
      "source": [
        "#QUES-2\n",
        "def reverse_string(s):\n",
        "    return s[::-1]\n",
        "\n",
        "\n",
        "input_string = \"hello\"\n",
        "reversed_string = reverse_string(input_string)\n",
        "print(reversed_string)\n"
      ],
      "metadata": {
        "colab": {
          "base_uri": "https://localhost:8080/"
        },
        "id": "HCB3XrgIuuIS",
        "outputId": "53d83afd-95f8-421d-ed61-00253913310e"
      },
      "execution_count": null,
      "outputs": [
        {
          "output_type": "stream",
          "name": "stdout",
          "text": [
            "olleh\n"
          ]
        }
      ]
    },
    {
      "cell_type": "code",
      "source": [
        "#QUES-3\n",
        "def square_numbers(numbers):\n",
        "    return [num ** 2 for num in numbers]\n",
        "\n",
        "\n",
        "input_list = [1, 2, 3, 4, 5]\n",
        "squared_list = square_numbers(input_list)\n",
        "print(squared_list)\n"
      ],
      "metadata": {
        "colab": {
          "base_uri": "https://localhost:8080/"
        },
        "id": "UIrquRt4uzDB",
        "outputId": "2a82541b-f9cd-4113-fbed-7f3a823d78cc"
      },
      "execution_count": null,
      "outputs": [
        {
          "output_type": "stream",
          "name": "stdout",
          "text": [
            "[1, 4, 9, 16, 25]\n"
          ]
        }
      ]
    },
    {
      "cell_type": "code",
      "source": [
        "#QUES-4\n",
        "def is_prime(n):\n",
        "    if n <= 1:\n",
        "        return False\n",
        "    for i in range(2, int(n**0.5) + 1):\n",
        "        if n % i == 0:\n",
        "            return False\n",
        "    return True\n",
        "\n",
        "\n",
        "for num in range(1, 201):\n",
        "    if is_prime(num):\n",
        "        print(f\"{num} is prime\")\n"
      ],
      "metadata": {
        "colab": {
          "base_uri": "https://localhost:8080/"
        },
        "id": "GMR998NnvFVJ",
        "outputId": "d098868e-2eee-4b11-9ed8-196b743dc4ee"
      },
      "execution_count": null,
      "outputs": [
        {
          "output_type": "stream",
          "name": "stdout",
          "text": [
            "2 is prime\n",
            "3 is prime\n",
            "5 is prime\n",
            "7 is prime\n",
            "11 is prime\n",
            "13 is prime\n",
            "17 is prime\n",
            "19 is prime\n",
            "23 is prime\n",
            "29 is prime\n",
            "31 is prime\n",
            "37 is prime\n",
            "41 is prime\n",
            "43 is prime\n",
            "47 is prime\n",
            "53 is prime\n",
            "59 is prime\n",
            "61 is prime\n",
            "67 is prime\n",
            "71 is prime\n",
            "73 is prime\n",
            "79 is prime\n",
            "83 is prime\n",
            "89 is prime\n",
            "97 is prime\n",
            "101 is prime\n",
            "103 is prime\n",
            "107 is prime\n",
            "109 is prime\n",
            "113 is prime\n",
            "127 is prime\n",
            "131 is prime\n",
            "137 is prime\n",
            "139 is prime\n",
            "149 is prime\n",
            "151 is prime\n",
            "157 is prime\n",
            "163 is prime\n",
            "167 is prime\n",
            "173 is prime\n",
            "179 is prime\n",
            "181 is prime\n",
            "191 is prime\n",
            "193 is prime\n",
            "197 is prime\n",
            "199 is prime\n"
          ]
        }
      ]
    },
    {
      "cell_type": "code",
      "source": [
        "#QUES-5\n",
        "class Fibonacci:\n",
        "    def __init__(self, n_terms):\n",
        "        self.n_terms = n_terms\n",
        "        self.current = 0\n",
        "        self.next = 1\n",
        "        self.count = 0\n",
        "\n",
        "    def __iter__(self):\n",
        "        return self\n",
        "\n",
        "    def __next__(self):\n",
        "        if self.count >= self.n_terms:\n",
        "            raise StopIteration\n",
        "        # Return the current value and update to the next\n",
        "        fib_value = self.current\n",
        "        self.current, self.next = self.next, self.current + self.next\n",
        "        self.count += 1\n",
        "        return fib_value\n",
        "\n",
        "\n",
        "fib_iterator = Fibonacci(10)\n",
        "for num in fib_iterator:\n",
        "    print(num)\n"
      ],
      "metadata": {
        "colab": {
          "base_uri": "https://localhost:8080/"
        },
        "id": "HDksdlVPvRE9",
        "outputId": "dd2b89df-4e2c-49cc-80ae-83891302d5f2"
      },
      "execution_count": null,
      "outputs": [
        {
          "output_type": "stream",
          "name": "stdout",
          "text": [
            "0\n",
            "1\n",
            "1\n",
            "2\n",
            "3\n",
            "5\n",
            "8\n",
            "13\n",
            "21\n",
            "34\n"
          ]
        }
      ]
    },
    {
      "cell_type": "code",
      "source": [
        "#QUES-6\n",
        "def powers_of_two(max_exponent):\n",
        "    for exponent in range(max_exponent + 1):\n",
        "        yield 2 ** exponent\n",
        "\n",
        "\n",
        "for power in powers_of_two(5):\n",
        "    print(power)\n"
      ],
      "metadata": {
        "colab": {
          "base_uri": "https://localhost:8080/"
        },
        "id": "912Kj8DRvff7",
        "outputId": "374db4f1-d48c-452a-cbb6-0856f6d15872"
      },
      "execution_count": null,
      "outputs": [
        {
          "output_type": "stream",
          "name": "stdout",
          "text": [
            "1\n",
            "2\n",
            "4\n",
            "8\n",
            "16\n",
            "32\n"
          ]
        }
      ]
    },
    {
      "cell_type": "code",
      "source": [
        "#QUES-7\n",
        "def read_file_line_by_line(file_path):\n",
        "    with open(file_path, 'r') as file:\n",
        "        for line in file:\n",
        "            yield line.rstrip('\\n')  # Yield each line without the trailing newline character\n",
        "\n",
        "\n",
        "# Assuming 'example.txt' is a file with some lines of text\n",
        "for line in read_file_line_by_line('example.txt'):\n",
        "    print(line)\n"
      ],
      "metadata": {
        "id": "NaEqJohFwBvA"
      },
      "execution_count": null,
      "outputs": []
    },
    {
      "cell_type": "code",
      "source": [
        "#QUES-8\n",
        "tuples_list = [(1, 3), (2, 1), (3, 2), (4, 4)]\n",
        "# Sort the list of tuples based on the second element\n",
        "sorted_list = sorted(tuples_list, key=lambda x: x[1])\n",
        "print(sorted_list)\n"
      ],
      "metadata": {
        "colab": {
          "base_uri": "https://localhost:8080/"
        },
        "id": "vN3Flvq5wLzM",
        "outputId": "4005a1b7-e505-4865-92aa-e139ee36a82a"
      },
      "execution_count": null,
      "outputs": [
        {
          "output_type": "stream",
          "name": "stdout",
          "text": [
            "[(2, 1), (3, 2), (1, 3), (4, 4)]\n"
          ]
        }
      ]
    },
    {
      "cell_type": "code",
      "source": [
        "#QUES-9\n",
        "def celsius_to_fahrenheit(celsius):\n",
        "    return (celsius * 9/5) + 32\n",
        "celsius_temps = [0, 20, 37, 100]\n",
        "fahrenheit_temps = list(map(celsius_to_fahrenheit, celsius_temps))\n",
        "print(fahrenheit_temps)\n"
      ],
      "metadata": {
        "colab": {
          "base_uri": "https://localhost:8080/"
        },
        "id": "I7luq39OwdKg",
        "outputId": "58608261-2424-4b54-dae9-45b740d17abc"
      },
      "execution_count": null,
      "outputs": [
        {
          "output_type": "stream",
          "name": "stdout",
          "text": [
            "[32.0, 68.0, 98.6, 212.0]\n"
          ]
        }
      ]
    },
    {
      "cell_type": "code",
      "source": [
        "#QUES-10\n",
        "def is_consonant(char):\n",
        "    return char.lower() not in 'aeiou'\n",
        "\n",
        "def remove_vowels(s):\n",
        "    return ''.join(filter(is_consonant, s))\n",
        "\n",
        "input_string = \"Hello, World!\"\n",
        "result_string = remove_vowels(input_string)\n",
        "print(result_string)\n"
      ],
      "metadata": {
        "colab": {
          "base_uri": "https://localhost:8080/"
        },
        "id": "2yKhfmoJwr2G",
        "outputId": "a593d858-216c-4430-acf7-749167798477"
      },
      "execution_count": null,
      "outputs": [
        {
          "output_type": "stream",
          "name": "stdout",
          "text": [
            "Hll, Wrld!\n"
          ]
        }
      ]
    },
    {
      "cell_type": "code",
      "source": [
        "#QUES-11\n",
        "orders = [\n",
        "    [34587, 40.95, 4],\n",
        "    [98762, 56.80, 5],\n",
        "    [77226, 32.95, 3],\n",
        "    [88112, 24.99, 3]\n",
        "]\n",
        "result = list(map(lambda order: (order[0], order[1] * order[2] + (10 if order[1] * order[2] < 100 else 0)), orders))\n",
        "\n",
        "print(result)\n"
      ],
      "metadata": {
        "id": "F76TYtypw5QC",
        "colab": {
          "base_uri": "https://localhost:8080/"
        },
        "outputId": "d174bbbc-72de-4377-f073-45f46cbb7969"
      },
      "execution_count": 2,
      "outputs": [
        {
          "output_type": "stream",
          "name": "stdout",
          "text": [
            "[(34587, 163.8), (98762, 284.0), (77226, 108.85000000000001), (88112, 84.97)]\n"
          ]
        }
      ]
    },
    {
      "cell_type": "code",
      "source": [],
      "metadata": {
        "id": "onfQps_u6iOY"
      },
      "execution_count": null,
      "outputs": []
    }
  ]
}